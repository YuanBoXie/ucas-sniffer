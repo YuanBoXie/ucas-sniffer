{
 "cells": [
  {
   "cell_type": "code",
   "execution_count": 1,
   "metadata": {},
   "outputs": [],
   "source": [
    "import pprint\n",
    "from scapy.all import *\n",
    "from scapy.config import Conf\n",
    "from scapy.layers.inet import IP, TCP, UDP\n",
    "from scapy.layers.http import HTTP\n",
    "from scapy.utils import hexdump\n",
    "# Conf.use_bpf = False"
   ]
  },
  {
   "cell_type": "code",
   "execution_count": 2,
   "metadata": {},
   "outputs": [],
   "source": [
    "def get_net_ifaces():\n",
    "    # interfaces = [_ for _ in ifaces] # 兼容性有问题，Windows 不可用\n",
    "    interfaces = [_ for _ in get_working_ifaces()]\n",
    "    return interfaces"
   ]
  },
  {
   "cell_type": "code",
   "execution_count": 3,
   "metadata": {},
   "outputs": [],
   "source": [
    "def analyze_packet(packet):\n",
    "    if packet.haslayer(IP):\n",
    "        ip = packet[IP]\n",
    "        print(\"[*] Protocol: IP\")\n",
    "        print(\"\\t Src IP:\", ip.src, ' Dst IP:', ip.dst)\n",
    "    \n",
    "    if packet.haslayer(TCP):\n",
    "        tcp = packet[TCP]\n",
    "        print(\"[*] Protocol: TCP\")\n",
    "        print(\"\\t Src Port:\", tcp.sport, ' Dst Port:', tcp.dport)\n",
    "        \n",
    "    if packet.haslayer(UDP):\n",
    "        udp = packet[UDP]\n",
    "        print(\"[*] Protocol: UDP\")\n",
    "        print(\"\\t Src Port:\", udp.sport, ' Dst Port:', udp.dport)\n",
    "    \n",
    "    if packet.haslayer(HTTP):\n",
    "        http = packet[HTTP]\n",
    "        print(\"[*] Protocol: HTTP\")\n",
    "        print(\"\\t Host:\", http.host, ' Path:', http.path)\n",
    "        \n",
    "    rawhex = hexdump(packet, dump=True)\n",
    "    print(\"[*] Raw:\")\n",
    "    print(rawhex)\n",
    "    "
   ]
  },
  {
   "cell_type": "code",
   "execution_count": null,
   "metadata": {},
   "outputs": [],
   "source": [
    "class Sniffer():\n",
    "    def __init__(self):\n",
    "        self.available_ifaces = get_net_ifaces()\n",
    "        self.iface = None\n",
    "        self.stop = False\n",
    "        self.cached_packets = []\n",
    "        self.max_cache_packets_count = 1\n",
    "\n",
    "    def get_interfaces(self):\n",
    "        for interface in self.available_ifaces:\n",
    "            print(interface.name)\n",
    "        return self.available_ifaces\n",
    "\n",
    "    def set_interface(self, interface_name):\n",
    "        for interface in self.available_ifaces:\n",
    "            if interface_name == interface.name:\n",
    "                self.iface = interface\n",
    "                return True\n",
    "        return False\n",
    "        \n",
    "        # if interface in self.available_ifaces:\n",
    "        #     self.iface = interface\n",
    "        #     return True\n",
    "        # return False\n",
    "\n",
    "    def start_sniffing(self):\n",
    "        if self.iface == None:\n",
    "            return False\n",
    "        cached_packets = sniff(iface=self.iface, count=self.max_cache_packets_count, prn=self.print_callback) # stop_filter=self.stop_filter_callback\n",
    "        self.cached_packets.extend(cached_packets)\n",
    "        return True\n",
    "\n",
    "    def print_callback(self, packet):\n",
    "        print(packet.summary())\n",
    "\n",
    "    def stop_filter_callback(self, packet):\n",
    "        if self.stop:\n",
    "            return True\n",
    "        return False\n",
    "\n",
    "    def pause(self):\n",
    "        self.stop = True\n",
    "        \n",
    "    def reset(self):\n",
    "        self.stop = False\n",
    "        self.iface = None\n",
    "        self.cached_packets = []\n",
    "        \n",
    "    def analyze_packets(self):\n",
    "        for packet in self.cached_packets:\n",
    "            print(\"[*] analysis:\")\n",
    "            print(packet)\n",
    "            analyze_packet(packet)"
   ]
  },
  {
   "cell_type": "code",
   "execution_count": null,
   "metadata": {},
   "outputs": [],
   "source": [
    "sniffer = Sniffer()"
   ]
  },
  {
   "cell_type": "code",
   "execution_count": null,
   "metadata": {},
   "outputs": [
    {
     "name": "stdout",
     "output_type": "stream",
     "text": [
      "本地连接* 10\n",
      "本地连接* 9\n",
      "本地连接* 8\n",
      "蓝牙网络连接\n",
      "WLAN\n",
      "VMware Network Adapter VMnet8\n",
      "VMware Network Adapter VMnet1\n",
      "vEthernet (Default Switch)\n",
      "Clash\n",
      "\\Device\\NPF_Loopback\n",
      "以太网\n"
     ]
    },
    {
     "data": {
      "text/plain": [
       "[<NetworkInterface_Win WAN Miniport (Network Monitor) [UP+RUNNING+OK]>,\n",
       " <NetworkInterface_Win WAN Miniport (IPv6) [UP+RUNNING+OK]>,\n",
       " <NetworkInterface_Win WAN Miniport (IP) [UP+RUNNING+OK]>,\n",
       " <NetworkInterface_Win Bluetooth Device (Personal Area Network) [UP+RUNNING+WIRELESS+DISCONNECTED]>,\n",
       " <NetworkInterface_Win Intel(R) Wi-Fi 6 AX200 160MHz [UP+RUNNING+WIRELESS+OK]>,\n",
       " <NetworkInterface_Win VMware Virtual Ethernet Adapter for VMnet8 [UP+RUNNING+OK]>,\n",
       " <NetworkInterface_Win VMware Virtual Ethernet Adapter for VMnet1 [UP+RUNNING+OK]>,\n",
       " <NetworkInterface_Win Hyper-V Virtual Ethernet Adapter [UP+RUNNING+OK]>,\n",
       " <NetworkInterface_Win Clash Tunnel [UP+RUNNING+OK]>,\n",
       " <NetworkInterface_Win Software Loopback Interface 1 [LOOPBACK+UP+RUNNING+OK+DISCONNECTED]>,\n",
       " <NetworkInterface_Win Realtek PCIe 2.5GbE Family Controller [UP+RUNNING+DISCONNECTED]>]"
      ]
     },
     "execution_count": 6,
     "metadata": {},
     "output_type": "execute_result"
    }
   ],
   "source": [
    "sniffer.get_interfaces()"
   ]
  },
  {
   "cell_type": "code",
   "execution_count": null,
   "metadata": {},
   "outputs": [
    {
     "data": {
      "text/plain": [
       "True"
      ]
     },
     "execution_count": 7,
     "metadata": {},
     "output_type": "execute_result"
    }
   ],
   "source": [
    "sniffer.set_interface('Clash')"
   ]
  },
  {
   "cell_type": "code",
   "execution_count": null,
   "metadata": {},
   "outputs": [],
   "source": [
    "sniffer.start_sniffing()"
   ]
  },
  {
   "cell_type": "code",
   "execution_count": null,
   "metadata": {},
   "outputs": [],
   "source": []
  }
 ],
 "metadata": {
  "kernelspec": {
   "display_name": "Python 3.10.13 ('sniffer')",
   "language": "python",
   "name": "python3"
  },
  "language_info": {
   "codemirror_mode": {
    "name": "ipython",
    "version": 3
   },
   "file_extension": ".py",
   "mimetype": "text/x-python",
   "name": "python",
   "nbconvert_exporter": "python",
   "pygments_lexer": "ipython3",
   "version": "3.10.13"
  },
  "orig_nbformat": 4,
  "vscode": {
   "interpreter": {
    "hash": "a10737a9531ec084444fbe67b7eb2600b38e36be92df5bcfdba7ae6155b6ded6"
   }
  }
 },
 "nbformat": 4,
 "nbformat_minor": 2
}
